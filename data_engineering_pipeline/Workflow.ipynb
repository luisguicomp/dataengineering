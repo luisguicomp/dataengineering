{
 "cells": [
  {
   "cell_type": "markdown",
   "metadata": {},
   "source": [
    "## Airflow"
   ]
  },
  {
   "cell_type": "code",
   "execution_count": 1,
   "metadata": {
    "scrolled": true
   },
   "outputs": [
    {
     "ename": "ModuleNotFoundError",
     "evalue": "No module named 'airflow'",
     "output_type": "error",
     "traceback": [
      "\u001b[1;31m---------------------------------------------------------------------------\u001b[0m",
      "\u001b[1;31mModuleNotFoundError\u001b[0m                       Traceback (most recent call last)",
      "\u001b[1;32m<ipython-input-1-77338e7bad19>\u001b[0m in \u001b[0;36m<module>\u001b[1;34m\u001b[0m\n\u001b[0;32m      1\u001b[0m \u001b[1;32mfrom\u001b[0m \u001b[0mdatetime\u001b[0m \u001b[1;32mimport\u001b[0m \u001b[0mdatetime\u001b[0m\u001b[1;33m\u001b[0m\u001b[1;33m\u001b[0m\u001b[0m\n\u001b[1;32m----> 2\u001b[1;33m \u001b[1;32mfrom\u001b[0m \u001b[0mairflow\u001b[0m \u001b[1;32mimport\u001b[0m \u001b[0mDAG\u001b[0m\u001b[1;33m\u001b[0m\u001b[1;33m\u001b[0m\u001b[0m\n\u001b[0m\u001b[0;32m      3\u001b[0m \u001b[1;33m\u001b[0m\u001b[0m\n\u001b[0;32m      4\u001b[0m reporting_dag = DAG(\n\u001b[0;32m      5\u001b[0m     \u001b[0mdag_id\u001b[0m\u001b[1;33m=\u001b[0m\u001b[1;34m\"publish_EMEA_sales_report\"\u001b[0m\u001b[1;33m,\u001b[0m\u001b[1;33m\u001b[0m\u001b[1;33m\u001b[0m\u001b[0m\n",
      "\u001b[1;31mModuleNotFoundError\u001b[0m: No module named 'airflow'"
     ]
    }
   ],
   "source": [
    "# !pip install airflow\n",
    "from datetime import datetime\n",
    "from airflow import DAG\n",
    "\n",
    "reporting_dag = DAG(\n",
    "    dag_id=\"publish_EMEA_sales_report\", \n",
    "    # Insert the cron expression\n",
    "    schedule_interval=\"* 7 * * 1\",\n",
    "    start_date=datetime(2019, 11, 24),\n",
    "    default_args={\"owner\": \"sales\"}\n",
    ")"
   ]
  },
  {
   "cell_type": "code",
   "execution_count": null,
   "metadata": {},
   "outputs": [],
   "source": [
    "# Specify direction using verbose method\n",
    "prepare_crust.set_downstream(apply_tomato_sauce)\n",
    "\n",
    "tasks_with_tomato_sauce_parent = [add_cheese, add_ham, add_olives, add_mushroom]\n",
    "for task in tasks_with_tomato_sauce_parent:\n",
    "    # Specify direction using verbose method on relevant task\n",
    "    apply_tomato_sauce.set_downstream(task)\n",
    "\n",
    "# Specify direction using bitshift operator\n",
    "tasks_with_tomato_sauce_parent >> bake_pizza\n",
    "\n",
    "# Specify direction using verbose method\n",
    "bake_pizza.set_upstream(prepare_oven)"
   ]
  },
  {
   "cell_type": "code",
   "execution_count": null,
   "metadata": {},
   "outputs": [],
   "source": [
    "config = os.path.join(os.environ[\"AIRFLOW_HOME\"], \n",
    "                      \"scripts\",\n",
    "                      \"configs\", \n",
    "                      \"data_lake.conf\")\n",
    "\n",
    "ingest = BashOperator(\n",
    "  # Assign a descriptive id\n",
    "  task_id=\"ingest_data\", \n",
    "  # Complete the ingestion pipeline\n",
    "  bash_command=\"tap-marketing-api | target-csv --config %s\" % config,\n",
    "  dag=dag)"
   ]
  },
  {
   "cell_type": "code",
   "execution_count": null,
   "metadata": {},
   "outputs": [],
   "source": [
    "# Import the operator\n",
    "from airflow.contrib.operators.spark_submit_operator import SparkSubmitOperator\n",
    "\n",
    "# Set the path for our files.\n",
    "entry_point = os.path.join(os.environ[\"AIRFLOW_HOME\"], \"scripts\", \"clean_ratings.py\")\n",
    "dependency_path = os.path.join(os.environ[\"AIRFLOW_HOME\"], \"dependencies\", \"pydiaper.zip\")\n",
    "\n",
    "with DAG('data_pipeline', start_date=datetime(2019, 6, 25),\n",
    "         schedule_interval='@daily') as dag:\n",
    "  \t# Define task clean, running a cleaning job.\n",
    "    clean_data = SparkSubmitOperator(\n",
    "        application=entry_point, \n",
    "        py_files=dependency_path,\n",
    "        task_id='clean_data',\n",
    "        conn_id='spark_default')"
   ]
  },
  {
   "cell_type": "markdown",
   "metadata": {},
   "source": [
    "### Deploying"
   ]
  }
 ],
 "metadata": {
  "kernelspec": {
   "display_name": "Python 3",
   "language": "python",
   "name": "python3"
  },
  "language_info": {
   "codemirror_mode": {
    "name": "ipython",
    "version": 3
   },
   "file_extension": ".py",
   "mimetype": "text/x-python",
   "name": "python",
   "nbconvert_exporter": "python",
   "pygments_lexer": "ipython3",
   "version": "3.8.5"
  }
 },
 "nbformat": 4,
 "nbformat_minor": 4
}
