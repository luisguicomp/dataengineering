{
 "cells": [
  {
   "cell_type": "markdown",
   "metadata": {},
   "source": [
    "## Data lake division\n",
    "- Landing Zone (Raw)\n",
    "- Clean zone (Transformations)\n",
    "- Bussiness zone (Warehousing)"
   ]
  },
  {
   "cell_type": "markdown",
   "metadata": {},
   "source": [
    "## Parquet File\n",
    "- Apache Parquet is a popular column storage file format used by Hadoop systems, such as Pig, Spark, and Hive"
   ]
  },
  {
   "cell_type": "markdown",
   "metadata": {},
   "source": [
    "## Singer\n",
    "- The open-source stantard for writing scripts taht move data\n",
    "- Tap (Extract data)\n",
    "- Stream\n",
    "    - Schema (metadata)\n",
    "    - state (process metadata)\n",
    "    - record (data)\n",
    "- Target (loads data)"
   ]
  },
  {
   "cell_type": "code",
   "execution_count": null,
   "metadata": {},
   "outputs": [],
   "source": [
    "# Import json\n",
    "import json\n",
    "\n",
    "database_address = {\n",
    "  \"host\": \"10.0.0.5\",\n",
    "  \"port\": 8456\n",
    "}\n",
    "\n",
    "# Open the configuration file in writable mode\n",
    "with open(\"database_config.json\", mode=\"w\") as fh:\n",
    "  # Serialize the object in this file handle\n",
    "  json.dump(obj=database_address, fp=fh) "
   ]
  },
  {
   "cell_type": "code",
   "execution_count": null,
   "metadata": {},
   "outputs": [],
   "source": [
    "import singer\n",
    "\n",
    "# Complete the JSON schema\n",
    "schema = {'properties': {\n",
    "    'brand': {'type': 'string'},\n",
    "    'model': {'type': 'string'},\n",
    "    'price': {'type': 'number'},\n",
    "    'currency': {'type': 'string'},\n",
    "    'quantity': {'type': 'number', 'minimum': 1},  \n",
    "    'date': {'type': 'string', 'format': 'date'},\n",
    "    'countrycode': {'type': 'string', 'pattern': \"^[A-Z]{2}$\"}, \n",
    "    'store_name': {'type': 'string'}}}\n",
    "\n",
    "# Write the schema\n",
    "singer.write_schema(stream_name=\"products\", schema=schema, key_properties=[])"
   ]
  },
  {
   "cell_type": "markdown",
   "metadata": {},
   "source": [
    "### API endpoit"
   ]
  },
  {
   "cell_type": "code",
   "execution_count": null,
   "metadata": {},
   "outputs": [],
   "source": [
    "endpoint = \"http://localhost:5000\"\n",
    "\n",
    "# Fill in the correct API key\n",
    "api_key = \"scientist007\"\n",
    "\n",
    "# Create the web API’s URL\n",
    "authenticated_endpoint = \"{}/{}\".format(endpoint, api_key)\n",
    "\n",
    "# Get the web API’s reply to the endpoint\n",
    "api_response = requests.get(authenticated_endpoint).json()\n",
    "pprint.pprint(api_response)"
   ]
  },
  {
   "cell_type": "code",
   "execution_count": null,
   "metadata": {},
   "outputs": [],
   "source": []
  },
  {
   "cell_type": "code",
   "execution_count": null,
   "metadata": {},
   "outputs": [],
   "source": [
    "# Use the convenience function to query the API\n",
    "tesco_items = retrieve_products(\"Tesco\")\n",
    "\n",
    "singer.write_schema(stream_name=\"products\", schema=schema,\n",
    "                    key_properties=[])\n",
    "\n",
    "# Write a single record to the stream, that adheres to the schema\n",
    "singer.write_record(stream_name=\"products\", \n",
    "                    record={**tesco_items[0], \"store_name\": \"Tesco\"})\n",
    "\n",
    "for shop in requests.get(SHOPS_URL).json()[\"shops\"]:\n",
    "    # Write all of the records that you retrieve from the API\n",
    "    singer.write_records(\n",
    "      stream_name=\"products\", # Use the same stream name that you used in the schema\n",
    "      records=({**item, \"store_name\": shop}\n",
    "               for item in retrieve_products(shop))\n",
    "    )"
   ]
  },
  {
   "cell_type": "code",
   "execution_count": null,
   "metadata": {},
   "outputs": [],
   "source": []
  },
  {
   "cell_type": "code",
   "execution_count": null,
   "metadata": {},
   "outputs": [],
   "source": [
    "#tap_marketing_api.py\n",
    "import requests\n",
    "import singer\n",
    "\n",
    "api_netloc = \"localhost:5000\"\n",
    "api_key = \"scientist007\"\n",
    "shops_template = f\"http://{api_netloc}/{api_key}/diaper/api/v1.0/shops\"\n",
    "items_template = f\"http://{api_netloc}/{api_key}/diaper/api/v1.0/items/\"\n",
    "\n",
    "# Complete the JSON schema\n",
    "schema = {'properties': {\n",
    "    'brand': {'type': 'string'},\n",
    "    'model': {'type': 'string'},\n",
    "    'price': {'type': 'number'},\n",
    "    'currency': {'type': 'string'},\n",
    "    'quantity': {'type': 'integer', 'minimum': 1},\n",
    "    'date': {'type': 'string', \"format\": \"date\"},\n",
    "    'countrycode': {'type': 'string', 'pattern': \"^[A-Z]{2}$\"},\n",
    "    'store_name': {'type': 'string'}},\n",
    "    '$schema': 'http://json-schema.org/draft-07/schema#'\n",
    "}\n",
    "\n",
    "# Write the schema to stdout.\n",
    "singer.write_schema(stream_name='products', schema=schema, key_properties=[])\n",
    "\n",
    "\n",
    "# Return the set of items scraped from a specific store as a list\n",
    "def retrieve_store_items(store_name, items_endpoint=items_template):\n",
    "    return requests.get(f\"{items_endpoint}{store_name}\").json()[\"items\"]\n",
    "\n",
    "\n",
    "def main():\n",
    "    for shop in requests.get(shops_template).json()[\"shops\"]:\n",
    "        singer.write_records(stream_name='products',\n",
    "                             # Add the name of the store to every record.\n",
    "                             records=({'store_name': shop, **item}\n",
    "                                      for item in retrieve_store_items(shop)))\n",
    "\n",
    "\n",
    "if __name__ == \"__main__\":\n",
    "    main()\n"
   ]
  },
  {
   "cell_type": "code",
   "execution_count": null,
   "metadata": {},
   "outputs": [],
   "source": [
    "# tap-marketing-api | target-csv --config ingest/data_lake.conf"
   ]
  },
  {
   "cell_type": "code",
   "execution_count": null,
   "metadata": {},
   "outputs": [],
   "source": []
  }
 ],
 "metadata": {
  "kernelspec": {
   "display_name": "Python 3",
   "language": "python",
   "name": "python3"
  },
  "language_info": {
   "codemirror_mode": {
    "name": "ipython",
    "version": 3
   },
   "file_extension": ".py",
   "mimetype": "text/x-python",
   "name": "python",
   "nbconvert_exporter": "python",
   "pygments_lexer": "ipython3",
   "version": "3.8.5"
  }
 },
 "nbformat": 4,
 "nbformat_minor": 4
}
